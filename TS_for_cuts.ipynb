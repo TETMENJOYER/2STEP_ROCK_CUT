{
 "cells": [
  {
   "cell_type": "code",
   "execution_count": 27,
   "id": "1571d56e",
   "metadata": {},
   "outputs": [],
   "source": [
    "import matplotlib.pyplot as plt\n",
    "import numpy as np\n",
    "from matplotlib import patches\n",
    "from shapely import geometry\n",
    "from tqdm import tqdm\n",
    "import random\n",
    "import torch"
   ]
  },
  {
   "cell_type": "code",
   "execution_count": 28,
   "id": "c087c510",
   "metadata": {},
   "outputs": [],
   "source": [
    "n = 8\n",
    "\n",
    "pattern = (0.5, 1)\n",
    "slab = ((0, 0), (0, 2), (2, 2), (2, 0))\n",
    "rnd_coef = [0.1, 0.1, 0.1]\n",
    "min_bound = np.array([0, 0, 0])\n",
    "max_bound = np.array([2, 2, 2 * np.pi])"
   ]
  },
  {
   "cell_type": "code",
   "execution_count": 29,
   "id": "f80f5c09",
   "metadata": {},
   "outputs": [],
   "source": [
    "\n",
    "def real_real_cords(x):\n",
    "    p = x[:2]\n",
    "    phi = x[2]\n",
    "    return [\n",
    "        [p[0], p[1]],\n",
    "        [p[0] + pattern[0] * np.cos(phi), p[1] + pattern[0] * np.sin(phi)],\n",
    "        [p[0] + pattern[0] * np.cos(phi) - pattern[1] * np.sin(phi),\n",
    "         p[1] + pattern[0] * np.sin(phi) + pattern[1] * np.cos(phi)],\n",
    "        [p[0] - pattern[1] * np.sin(phi), p[1] + pattern[1] * np.cos(phi)]\n",
    "    ]\n",
    "\n"
   ]
  },
  {
   "cell_type": "code",
   "execution_count": 30,
   "id": "1ab1c1ef",
   "metadata": {},
   "outputs": [],
   "source": [
    "\n",
    "\n",
    "def s_intersection(a, b):\n",
    "    poly1 = geometry.Polygon(a)\n",
    "    poly2 = geometry.Polygon(b)\n",
    "    intersection = poly1.intersection(poly2)\n",
    "    return intersection.area\n",
    "\n",
    "def real_cords(x):\n",
    "    p = x[:2]\n",
    "    phi = x[2]\n",
    "    return geometry.Polygon([\n",
    "        [p[0], p[1]],\n",
    "        [p[0] + pattern[0] * np.cos(phi), p[1] + pattern[0] * np.sin(phi)],\n",
    "        [p[0] + pattern[0] * np.cos(phi) - pattern[1] * np.sin(phi),\n",
    "         p[1] + pattern[0] * np.sin(phi) + pattern[1] * np.cos(phi)],\n",
    "        [p[0] - pattern[1] * np.sin(phi), p[1] + pattern[1] * np.cos(phi)]\n",
    "    ])\n",
    "\n",
    "def torch_func(patterns):\n",
    "    patterns = patterns.detach().cpu().numpy()\n",
    "    s = 0\n",
    "    for i in range(len(patterns)):\n",
    "        for j in range(i + 1, len(patterns)):\n",
    "            s += s_intersection(real_cords(patterns[i]), real_cords(patterns[j]))\n",
    "    slab_poly = geometry.Polygon(slab)\n",
    "    for pat in patterns:\n",
    "        poly = real_cords(pat)\n",
    "        s += poly.area - s_intersection(slab_poly, poly)\n",
    "    return s\n",
    "\n",
    "def func(patterns):\n",
    "    s = 0\n",
    "    for i in range(len(patterns)):\n",
    "        for j in range(i + 1, len(patterns)):\n",
    "            s += s_intersection(real_cords(patterns[i]), real_cords(patterns[j]))\n",
    "    slab_poly = geometry.Polygon(slab)\n",
    "    for pat in patterns:\n",
    "        poly = real_cords(pat)\n",
    "        s += poly.area - s_intersection(slab_poly, poly)\n",
    "    return s\n"
   ]
  },
  {
   "cell_type": "code",
   "execution_count": 31,
   "id": "4bc0536a",
   "metadata": {},
   "outputs": [
    {
     "name": "stderr",
     "output_type": "stream",
     "text": [
      "  0%|          | 0/1000 [00:00<?, ?it/s]"
     ]
    },
    {
     "name": "stderr",
     "output_type": "stream",
     "text": [
      "100%|██████████| 1000/1000 [01:15<00:00, 13.24it/s]"
     ]
    },
    {
     "name": "stdout",
     "output_type": "stream",
     "text": [
      "Best solution: ((np.float64(1.0079086434780027), np.float64(0.48991240491276045), np.float64(1.5474675840992378)), (np.float64(0.45712618867357774), np.float64(1.5091064317989162), np.float64(4.722495156815391)), (np.int64(0), np.float64(0.9937244909137524), np.float64(6.269631140945295)), (np.float64(1.4632150879274248), np.float64(1.0548914358784045), np.float64(6.191639649155111)), (np.float64(0.5105561507333708), np.float64(2.0), np.float64(4.73730982619134)), (np.float64(1.0004634971627833), np.float64(1.0081878713144319), np.float64(4.719687455801347)), (np.float64(0.010598217310232985), np.float64(0.5017183110936928), np.float64(4.7088238253329875)), (np.float64(1.0028798109180803), np.float64(0.49066249627648734), np.float64(4.698884964927697)))\n",
      "Best fitness: 0.10631733131391233\n"
     ]
    },
    {
     "name": "stderr",
     "output_type": "stream",
     "text": [
      "\n"
     ]
    }
   ],
   "source": [
    "\n",
    "def get_neighbors(solution):\n",
    "    neighbors = []\n",
    "    n = len(solution)\n",
    "    for _ in range(10):  # 10 соседей каждый раз\n",
    "        neighbor = list(solution)\n",
    "        # случайно выбираем индекс для мутации\n",
    "        idx = random.randint(0, n - 1)\n",
    "        old_coord = neighbor[idx]\n",
    "        # новый набор координат с небольшим случайным смещением\n",
    "        new_coord = (\n",
    "            max(min_bound[0], min(old_coord[0] + random.uniform(-rnd_coef[0], rnd_coef[0]), max_bound[0])),\n",
    "            max(min_bound[1], min(old_coord[1] + random.uniform(-rnd_coef[1], rnd_coef[1]), max_bound[1])),\n",
    "            max(min_bound[2], min(old_coord[2] + random.uniform(-rnd_coef[2], rnd_coef[2]), max_bound[2])),\n",
    "        )\n",
    "        neighbor[idx] = new_coord\n",
    "        neighbors.append(tuple(neighbor))\n",
    "    return neighbors\n",
    "\n",
    "def tabu_search(initial_solution, max_iterations, tabu_list_size):\n",
    "    current_solution = initial_solution\n",
    "    best_solution = initial_solution\n",
    "    tabu_list = []\n",
    "\n",
    "    for _ in tqdm(range(max_iterations)):\n",
    "        neighbors = get_neighbors(current_solution)\n",
    "        best_neighbor = None\n",
    "        best_neighbor_fitness = float('inf')\n",
    "\n",
    "        for neighbor in neighbors:\n",
    "            if neighbor not in tabu_list:\n",
    "                fitness = func(neighbor)\n",
    "                if fitness < best_neighbor_fitness:\n",
    "                    best_neighbor = neighbor\n",
    "                    best_neighbor_fitness = fitness\n",
    "\n",
    "        if best_neighbor is None:\n",
    "            break\n",
    "\n",
    "        current_solution = best_neighbor\n",
    "        tabu_list.append(best_neighbor)\n",
    "        if len(tabu_list) > tabu_list_size:\n",
    "            tabu_list.pop(0)\n",
    "\n",
    "        if func(current_solution) < func(best_solution):\n",
    "            best_solution = current_solution\n",
    "\n",
    "    return best_solution\n",
    "\n",
    "# Инициализация: n наборов координат\n",
    "n = 8\n",
    "initial_solution = []\n",
    "for _ in range(n):\n",
    "    initial_solution.append((\n",
    "        random.uniform(min_bound[0], max_bound[0]),\n",
    "        random.uniform(min_bound[1], max_bound[1]),\n",
    "        random.uniform(min_bound[2], max_bound[2])\n",
    "    ))\n",
    "initial_solution = tuple(initial_solution)  # чтоб была хешируемой для табу-листа\n",
    "\n",
    "max_iterations = 1000\n",
    "tabu_list_size = 10  \n",
    "\n",
    "best_solution = tabu_search(initial_solution, max_iterations, tabu_list_size)\n",
    "\n",
    "print(\"Best solution:\", best_solution)\n",
    "print(\"Best fitness:\", func(best_solution))\n"
   ]
  },
  {
   "cell_type": "code",
   "execution_count": 32,
   "id": "a323f232",
   "metadata": {},
   "outputs": [
    {
     "data": {
      "image/png": "[encoded data removed]",
      "text/plain": [
       "<Figure size 640x480 with 1 Axes>"
      ]
     },
     "metadata": {},
     "output_type": "display_data"
    }
   ],
   "source": [
    "fig, ax = plt.subplots()\n",
    "\n",
    "polygon = patches.Polygon(slab, closed=True, fill=True, edgecolor='blue', facecolor='lightblue', alpha=0.5)\n",
    "ax.add_patch(polygon)\n",
    "\n",
    "for pos in best_solution:\n",
    "    rect = patches.Polygon(real_real_cords(pos), closed=True, fill=True, edgecolor='blue', facecolor='cyan', alpha=0.5)\n",
    "    ax.add_patch(rect)\n",
    "\n",
    "\n",
    "ax.set_xlim(0, 3)\n",
    "ax.set_ylim(0, 3)\n",
    "ax.set_aspect('equal')\n",
    "ax.grid(True)\n",
    "ax.set_axis_off()\n",
    "\n",
    "plt.show()"
   ]
  },
  {
   "cell_type": "code",
   "execution_count": 35,
   "id": "a8760d93",
   "metadata": {},
   "outputs": [
    {
     "name": "stderr",
     "output_type": "stream",
     "text": [
      "  0%|          | 0/1000 [00:00<?, ?it/s]\n"
     ]
    },
    {
     "ename": "AttributeError",
     "evalue": "'float' object has no attribute 'backward'",
     "output_type": "error",
     "traceback": [
      "\u001b[1;31m---------------------------------------------------------------------------\u001b[0m",
      "\u001b[1;31mAttributeError\u001b[0m                            Traceback (most recent call last)",
      "Cell \u001b[1;32mIn[35], line 33\u001b[0m\n\u001b[0;32m     26\u001b[0m     \u001b[38;5;28;01mreturn\u001b[39;00m params\u001b[38;5;241m.\u001b[39mdetach()\u001b[38;5;241m.\u001b[39mnumpy() \n\u001b[0;32m     31\u001b[0m best_solution_after_ts \u001b[38;5;241m=\u001b[39m best_solution  \n\u001b[1;32m---> 33\u001b[0m improved_solution \u001b[38;5;241m=\u001b[39m \u001b[43mgradient_descent\u001b[49m\u001b[43m(\u001b[49m\u001b[43mtorch_func\u001b[49m\u001b[43m,\u001b[49m\u001b[43m \u001b[49m\u001b[43mbest_solution_after_ts\u001b[49m\u001b[43m,\u001b[49m\u001b[43m \u001b[49m\u001b[43mlr\u001b[49m\u001b[38;5;241;43m=\u001b[39;49m\u001b[38;5;241;43m0.01\u001b[39;49m\u001b[43m,\u001b[49m\u001b[43m \u001b[49m\u001b[43mmax_iters\u001b[49m\u001b[38;5;241;43m=\u001b[39;49m\u001b[38;5;241;43m1000\u001b[39;49m\u001b[43m)\u001b[49m\n\u001b[0;32m     35\u001b[0m \u001b[38;5;28mprint\u001b[39m(\u001b[38;5;124m\"\u001b[39m\u001b[38;5;124mImproved solution:\u001b[39m\u001b[38;5;124m\"\u001b[39m, improved_solution)\n\u001b[0;32m     36\u001b[0m \u001b[38;5;28mprint\u001b[39m(\u001b[38;5;124m\"\u001b[39m\u001b[38;5;124mImproved fitness:\u001b[39m\u001b[38;5;124m\"\u001b[39m, func(improved_solution))\n",
      "Cell \u001b[1;32mIn[35], line 23\u001b[0m, in \u001b[0;36mgradient_descent\u001b[1;34m(func, params, lr, max_iters)\u001b[0m\n\u001b[0;32m     21\u001b[0m     optimizer\u001b[38;5;241m.\u001b[39mzero_grad()          \u001b[38;5;66;03m# обнуляем градиенты с прошлой итерации\u001b[39;00m\n\u001b[0;32m     22\u001b[0m     loss \u001b[38;5;241m=\u001b[39m func(params)            \u001b[38;5;66;03m# вычисляем значение функции потерь\u001b[39;00m\n\u001b[1;32m---> 23\u001b[0m     \u001b[43mloss\u001b[49m\u001b[38;5;241;43m.\u001b[39;49m\u001b[43mbackward\u001b[49m()                \u001b[38;5;66;03m# вычисляем градиенты\u001b[39;00m\n\u001b[0;32m     24\u001b[0m     optimizer\u001b[38;5;241m.\u001b[39mstep()               \u001b[38;5;66;03m# обновляем параметры\u001b[39;00m\n\u001b[0;32m     26\u001b[0m \u001b[38;5;28;01mreturn\u001b[39;00m params\u001b[38;5;241m.\u001b[39mdetach()\u001b[38;5;241m.\u001b[39mnumpy()\n",
      "\u001b[1;31mAttributeError\u001b[0m: 'float' object has no attribute 'backward'"
     ]
    }
   ],
   "source": [
    "\n",
    "\n",
    "def grad(best_solution):\n",
    "    x = best_solution.detach().numpy()\n",
    "    \n",
    "    xt = torch.tensor(x, requires_grad=True)\n",
    "    optimizer = torch.optim.Adam([xt], lr=0.001)\n",
    "    for i in range(100):\n",
    "        optimizer.zero_grad()\n",
    "        f = torch_func(xt)\n",
    "        f.backward()\n",
    "        optimizer.step()\n",
    "    return xt\n",
    "\n",
    "\n",
    "def gradient_descent(func, params,lr, max_iters):\n",
    "\n",
    "    params = torch.tensor(params, requires_grad= True)\n",
    "    optimizer = torch.optim.Adam([params], lr)\n",
    "\n",
    "\n",
    "    for i in tqdm(range(max_iters )):\n",
    "        optimizer.zero_grad()          # обнуляем градиенты с прошлой итерации\n",
    "        loss = func(params)            # вычисляем значение функции потерь\n",
    "        loss.backward()                # вычисляем градиенты\n",
    "        optimizer.step()               # обновляем параметры\n",
    "    \n",
    "    return params.detach().numpy() \n",
    "\n",
    "\n",
    "\n",
    "\n",
    "best_solution_after_ts = best_solution  \n",
    "\n",
    "improved_solution = gradient_descent(torch_func, best_solution_after_ts, lr=0.01, max_iters=1000)\n",
    "\n",
    "print(\"Improved solution:\", improved_solution)\n",
    "print(\"Improved fitness:\", func(improved_solution))\n"
   ]
  },
  {
   "cell_type": "code",
   "execution_count": null,
   "id": "6e1d86bc",
   "metadata": {},
   "outputs": [
    {
     "data": {
      "image/png": "[encoded data removed]",
      "text/plain": [
       "<Figure size 640x480 with 1 Axes>"
      ]
     },
     "metadata": {},
     "output_type": "display_data"
    },
    {
     "name": "stdout",
     "output_type": "stream",
     "text": [
      "Улучшение -0.4590706678505428\n"
     ]
    }
   ],
   "source": [
    "# Визуализация\n",
    "fig, ax = plt.subplots()\n",
    "\n",
    "polygon = patches.Polygon(slab, closed=True, fill=True, edgecolor='blue', facecolor='lightblue', alpha=0.5)\n",
    "ax.add_patch(polygon)\n",
    "\n",
    "for pos in improved_solution:\n",
    "    rect = patches.Polygon(real_real_cords(pos), closed=True, fill=True, edgecolor='blue', facecolor='cyan', alpha=0.5)\n",
    "    ax.add_patch(rect)\n",
    "\n",
    "\n",
    "ax.set_xlim(0, 3)\n",
    "ax.set_ylim(0, 3)\n",
    "ax.set_aspect('equal')\n",
    "ax.grid(True)\n",
    "ax.set_axis_off()\n",
    "\n",
    "plt.show()\n",
    "print (\"Улучшение\", func(best_solution)-func(improved_solution))\n"
   ]
  }
 ],
 "metadata": {
  "kernelspec": {
   "display_name": "Python 3",
   "language": "python",
   "name": "python3"
  },
  "language_info": {
   "codemirror_mode": {
    "name": "ipython",
    "version": 3
   },
   "file_extension": ".py",
   "mimetype": "text/x-python",
   "name": "python",
   "nbconvert_exporter": "python",
   "pygments_lexer": "ipython3",
   "version": "3.10.0"
  }
 },
 "nbformat": 4,
 "nbformat_minor": 5
}
