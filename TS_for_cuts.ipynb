{
 "cells": [
  {
   "cell_type": "code",
   "execution_count": 1,
   "id": "1571d56e",
   "metadata": {},
   "outputs": [],
   "source": [
    "import matplotlib.pyplot as plt\n",
    "import numpy as np\n",
    "from matplotlib import patches\n",
    "from shapely import geometry\n",
    "from tqdm import tqdm\n",
    "import random\n",
    "import scipy "
   ]
  },
  {
   "cell_type": "code",
   "execution_count": 2,
   "id": "c087c510",
   "metadata": {},
   "outputs": [],
   "source": [
    "n = 8\n",
    "\n",
    "pattern = (0.5, 1)\n",
    "slab = ((0, 0), (0, 2), (2, 2), (2, 0))\n",
    "rnd_coef = [0.1, 0.1, 0.1]\n",
    "min_bound = np.array([0, 0, 0])\n",
    "max_bound = np.array([2, 2, 2 * np.pi])"
   ]
  },
  {
   "cell_type": "code",
   "execution_count": 3,
   "id": "f80f5c09",
   "metadata": {},
   "outputs": [],
   "source": [
    "\n",
    "def real_real_cords(x):\n",
    "    p = x[:2]\n",
    "    phi = x[2]\n",
    "    return [\n",
    "        [p[0], p[1]],\n",
    "        [p[0] + pattern[0] * np.cos(phi), p[1] + pattern[0] * np.sin(phi)],\n",
    "        [p[0] + pattern[0] * np.cos(phi) - pattern[1] * np.sin(phi),\n",
    "         p[1] + pattern[0] * np.sin(phi) + pattern[1] * np.cos(phi)],\n",
    "        [p[0] - pattern[1] * np.sin(phi), p[1] + pattern[1] * np.cos(phi)]\n",
    "    ]\n",
    "\n"
   ]
  },
  {
   "cell_type": "code",
   "execution_count": 4,
   "id": "1ab1c1ef",
   "metadata": {},
   "outputs": [],
   "source": [
    "\n",
    "\n",
    "def s_intersection(a, b):\n",
    "    poly1 = geometry.Polygon(a)\n",
    "    poly2 = geometry.Polygon(b)\n",
    "    intersection = poly1.intersection(poly2)\n",
    "    return intersection.area\n",
    "\n",
    "def real_cords(x):\n",
    "    p = x[:2]\n",
    "    phi = x[2]\n",
    "    return geometry.Polygon([\n",
    "        [p[0], p[1]],\n",
    "        [p[0] + pattern[0] * np.cos(phi), p[1] + pattern[0] * np.sin(phi)],\n",
    "        [p[0] + pattern[0] * np.cos(phi) - pattern[1] * np.sin(phi),\n",
    "         p[1] + pattern[0] * np.sin(phi) + pattern[1] * np.cos(phi)],\n",
    "        [p[0] - pattern[1] * np.sin(phi), p[1] + pattern[1] * np.cos(phi)]\n",
    "    ])\n",
    "\n",
    "def torch_func(patterns):\n",
    "    patterns = patterns.detach().cpu().numpy()\n",
    "    s = 0\n",
    "    for i in range(len(patterns)):\n",
    "        for j in range(i + 1, len(patterns)):\n",
    "            s += s_intersection(real_cords(patterns[i]), real_cords(patterns[j]))\n",
    "    slab_poly = geometry.Polygon(slab)\n",
    "    for pat in patterns:\n",
    "        poly = real_cords(pat)\n",
    "        s += poly.area - s_intersection(slab_poly, poly)\n",
    "    return s\n",
    "\n",
    "def func(patterns):\n",
    "    s = 0\n",
    "    for i in range(len(patterns)):\n",
    "        for j in range(i + 1, len(patterns)):\n",
    "            s += s_intersection(real_cords(patterns[i]), real_cords(patterns[j]))\n",
    "    slab_poly = geometry.Polygon(slab)\n",
    "    for pat in patterns:\n",
    "        poly = real_cords(pat)\n",
    "        s += poly.area - s_intersection(slab_poly, poly)\n",
    "    return s\n"
   ]
  },
  {
   "cell_type": "code",
   "execution_count": null,
   "id": "4bc0536a",
   "metadata": {},
   "outputs": [
    {
     "name": "stderr",
     "output_type": "stream",
     "text": [
      "100%|██████████| 1000/1000 [00:19<00:00, 52.26it/s]"
     ]
    },
    {
     "name": "stdout",
     "output_type": "stream",
     "text": [
      "Best solution: ((np.float64(1.4992091818879147), np.float64(1.005958659663286), np.float64(6.283185307179586)), (np.float64(0.45793419423663145), np.float64(0.5012898676058685), np.float64(6.239793300215772)), (np.float64(0.9999227494622701), np.float64(1.518273195435352), np.float64(1.6082601575019286)), (np.float64(0.5129878409684366), np.float64(1.442832801695122), np.float64(3.0720477780211177)), (np.int64(0), np.float64(0.46622669651579285), np.float64(4.749738897364152)), (np.float64(1.0079541513290973), np.float64(1.0247810382230385), np.float64(0.01307253681232777)), (np.float64(0.9914269771642528), np.float64(0.45049860288345517), np.float64(4.78716996032777)), (np.float64(0.9343385923975172), np.float64(0.950648210393327), np.float64(4.805513589130392)))\n",
      "Best fitness: 0.11627371386136\n"
     ]
    },
    {
     "name": "stderr",
     "output_type": "stream",
     "text": [
      "\n"
     ]
    }
   ],
   "source": [
    "\n",
    "def get_neighbors(solution):\n",
    "    neighbors = []\n",
    "    n = len(solution)\n",
    "    for _ in range(10): \n",
    "        neighbor = list(solution)\n",
    "        idx = random.randint(0, n - 1)\n",
    "        old_coord = neighbor[idx]\n",
    "        new_coord = (\n",
    "            max(min_bound[0], min(old_coord[0] + random.uniform(-rnd_coef[0], rnd_coef[0]), max_bound[0])),\n",
    "            max(min_bound[1], min(old_coord[1] + random.uniform(-rnd_coef[1], rnd_coef[1]), max_bound[1])),\n",
    "            max(min_bound[2], min(old_coord[2] + random.uniform(-rnd_coef[2], rnd_coef[2]), max_bound[2])),\n",
    "        )\n",
    "        neighbor[idx] = new_coord\n",
    "        neighbors.append(tuple(neighbor))\n",
    "    return neighbors\n",
    "\n",
    "def tabu_search(initial_solution, max_iterations, tabu_list_size):\n",
    "    current_solution = initial_solution\n",
    "    best_solution = initial_solution\n",
    "    tabu_list = []\n",
    "\n",
    "    for _ in tqdm(range(max_iterations)):\n",
    "        neighbors = get_neighbors(current_solution)\n",
    "        best_neighbor = None\n",
    "        best_neighbor_fitness = float('inf')\n",
    "\n",
    "        for neighbor in neighbors:\n",
    "            if neighbor not in tabu_list:\n",
    "                fitness = func(neighbor)\n",
    "                if fitness < best_neighbor_fitness:\n",
    "                    best_neighbor = neighbor\n",
    "                    best_neighbor_fitness = fitness\n",
    "\n",
    "        if best_neighbor is None:\n",
    "            break\n",
    "\n",
    "        current_solution = best_neighbor\n",
    "        tabu_list.append(best_neighbor)\n",
    "        if len(tabu_list) > tabu_list_size:\n",
    "            tabu_list.pop(0)\n",
    "\n",
    "        if func(current_solution) < func(best_solution):\n",
    "            best_solution = current_solution\n",
    "\n",
    "    return best_solution\n",
    "\n",
    "# Инициализация: n наборов координат\n",
    "n = 8\n",
    "initial_solution = []\n",
    "for _ in range(n):\n",
    "    initial_solution.append((\n",
    "        random.uniform(min_bound[0], max_bound[0]),\n",
    "        random.uniform(min_bound[1], max_bound[1]),\n",
    "        random.uniform(min_bound[2], max_bound[2])\n",
    "    ))\n",
    "initial_solution = tuple(initial_solution)  # чтоб была хешируемой для табу-листа\n",
    "\n",
    "max_iterations = 1000\n",
    "tabu_list_size = 10  \n",
    "\n",
    "best_solution = tabu_search(initial_solution, max_iterations, tabu_list_size)\n",
    "\n",
    "print(\"Best solution:\", best_solution)\n",
    "print(\"Best fitness:\", func(best_solution))\n"
   ]
  },
  {
   "cell_type": "code",
   "execution_count": 6,
   "id": "a323f232",
   "metadata": {},
   "outputs": [
    {
     "data": {
      "image/png": "[encoded data removed]",
      "text/plain": [
       "<Figure size 640x480 with 1 Axes>"
      ]
     },
     "metadata": {},
     "output_type": "display_data"
    }
   ],
   "source": [
    "fig, ax = plt.subplots()\n",
    "\n",
    "polygon = patches.Polygon(slab, closed=True, fill=True, edgecolor='blue', facecolor='lightblue', alpha=0.5)\n",
    "ax.add_patch(polygon)\n",
    "\n",
    "for pos in best_solution:\n",
    "    rect = patches.Polygon(real_real_cords(pos), closed=True, fill=True, edgecolor='blue', facecolor='cyan', alpha=0.5)\n",
    "    ax.add_patch(rect)\n",
    "\n",
    "\n",
    "ax.set_xlim(0, 3)\n",
    "ax.set_ylim(0, 3)\n",
    "ax.set_aspect('equal')\n",
    "ax.grid(True)\n",
    "ax.set_axis_off()\n",
    "\n",
    "plt.show()"
   ]
  },
  {
   "cell_type": "code",
   "execution_count": null,
   "id": "a8760d93",
   "metadata": {},
   "outputs": [
    {
     "name": "stdout",
     "output_type": "stream",
     "text": [
      "Improved solution: ((np.float64(1.5000003339722625), np.float64(1.0000020099236508), np.float64(6.283185307179586)), (np.float64(0.49999942970114714), np.float64(0.5000028923475403), np.float64(6.283184721575401)), (np.float64(1.000002678677936), np.float64(1.50000743229813), np.float64(1.5708076811525082)), (np.float64(0.500002470217519), np.float64(1.4999976664562664), np.float64(3.1415833517242207)), (np.float64(0.0), np.float64(0.49999672616160956), np.float64(4.712398432307906)), (np.float64(0.9999988156985269), np.float64(1.0000174310361585), np.float64(0.0)), (np.float64(1.0002413086473512), np.float64(0.5004140687196611), np.float64(4.711590129478036)), (np.float64(1.0000054516488286), np.float64(1.0000258261579562), np.float64(4.712362484478369)))\n",
      "Improved fitness: 0.0002674378319684176\n"
     ]
    }
   ],
   "source": [
    "\n",
    "\n",
    "def objective(x):\n",
    "    patterns = [x[i:i+3] for i in range(0, len(x), 3)]\n",
    "    return func(patterns)\n",
    "\n",
    "x0 = np.array([coord for pattern in best_solution for coord in pattern])\n",
    "\n",
    "bounds = [(min_bound[i % 3], max_bound[i % 3]) for i in range(len(x0))]\n",
    "result = scipy.optimize.minimize(objective, x0, method='L-BFGS-B', bounds=bounds, options={'maxiter': 100})\n",
    "\n",
    "improved_solution = [tuple(result.x[i:i+3]) for i in range(0, len(result.x), 3)]\n",
    "improved_solution = tuple(improved_solution)\n",
    "\n",
    "best_solution_after_ts = best_solution  \n",
    "\n",
    "print(\"Improved solution:\", improved_solution)\n",
    "print(\"Improved fitness:\", func(improved_solution))\n"
   ]
  },
  {
   "cell_type": "code",
   "execution_count": 9,
   "id": "6e1d86bc",
   "metadata": {},
   "outputs": [
    {
     "data": {
      "image/png": "[encoded data removed]",
      "text/plain": [
       "<Figure size 640x480 with 1 Axes>"
      ]
     },
     "metadata": {},
     "output_type": "display_data"
    },
    {
     "name": "stdout",
     "output_type": "stream",
     "text": [
      "Относительное лучшение 0.9976999287019652\n"
     ]
    }
   ],
   "source": [
    "# Визуализация\n",
    "fig, ax = plt.subplots()\n",
    "\n",
    "polygon = patches.Polygon(slab, closed=True, fill=True, edgecolor='blue', facecolor='lightblue', alpha=0.5)\n",
    "ax.add_patch(polygon)\n",
    "\n",
    "for pos in improved_solution:\n",
    "    rect = patches.Polygon(real_real_cords(pos), closed=True, fill=True, edgecolor='blue', facecolor='cyan', alpha=0.5)\n",
    "    ax.add_patch(rect)\n",
    "\n",
    "\n",
    "ax.set_xlim(0, 3)\n",
    "ax.set_ylim(0, 3)\n",
    "ax.set_aspect('equal')\n",
    "ax.grid(True)\n",
    "ax.set_axis_off()\n",
    "\n",
    "plt.show()\n",
    "print (\"Относительное лучшение\", (func(best_solution)-func(improved_solution))/func(best_solution))\n"
   ]
  }
 ],
 "metadata": {
  "kernelspec": {
   "display_name": "Python 3",
   "language": "python",
   "name": "python3"
  },
  "language_info": {
   "codemirror_mode": {
    "name": "ipython",
    "version": 3
   },
   "file_extension": ".py",
   "mimetype": "text/x-python",
   "name": "python",
   "nbconvert_exporter": "python",
   "pygments_lexer": "ipython3",
   "version": "3.12.0"
  }
 },
 "nbformat": 4,
 "nbformat_minor": 5
}
