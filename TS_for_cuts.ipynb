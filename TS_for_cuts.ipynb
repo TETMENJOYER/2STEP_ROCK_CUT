{
 "cells": [
  {
   "cell_type": "code",
   "execution_count": null,
   "id": "0a0fae08",
   "metadata": {},
   "outputs": [],
   "source": []
  },
  {
   "cell_type": "code",
   "execution_count": 5,
   "id": "d170a48d",
   "metadata": {},
   "outputs": [],
   "source": [
    "import matplotlib.pyplot as plt\n",
    "import numpy as np\n",
    "from matplotlib import patches\n",
    "from shapely import geometry\n",
    "from tqdm import tqdm\n",
    "import random\n",
    "import torch\n",
    "from scipy.optimize import minimize\n"
   ]
  },
  {
   "cell_type": "code",
   "execution_count": 6,
   "id": "53f5b458",
   "metadata": {},
   "outputs": [],
   "source": [
    "\n",
    "n = 8\n",
    "pattern = (0.5, 1)\n",
    "slab = ((0, 0), (0, 2), (2, 2), (2, 0))\n",
    "rnd_coef = [0.1, 0.1, 0.1]\n",
    "min_bound = np.array([0, 0, 0])\n",
    "max_bound = np.array([2, 2, 2 * np.pi])\n"
   ]
  },
  {
   "cell_type": "code",
   "execution_count": 7,
   "id": "ad32e9ed",
   "metadata": {},
   "outputs": [],
   "source": [
    "\n",
    "def real_real_cords(x):\n",
    "    p = x[:2]\n",
    "    phi = x[2]\n",
    "    return [\n",
    "        [p[0], p[1]],\n",
    "        [p[0] + pattern[0] * np.cos(phi), p[1] + pattern[0] * np.sin(phi)],\n",
    "        [p[0] + pattern[0] * np.cos(phi) - pattern[1] * np.sin(phi),\n",
    "         p[1] + pattern[0] * np.sin(phi) + pattern[1] * np.cos(phi)],\n",
    "        [p[0] - pattern[1] * np.sin(phi), p[1] + pattern[1] * np.cos(phi)]\n",
    "    ]\n",
    "\n",
    "def s_intersection(a, b):\n",
    "    poly1 = geometry.Polygon(a)\n",
    "    poly2 = geometry.Polygon(b)\n",
    "    intersection = poly1.intersection(poly2)\n",
    "    return intersection.area\n",
    "\n",
    "def real_cords(x):\n",
    "    p = x[:2]\n",
    "    phi = x[2]\n",
    "    return geometry.Polygon([\n",
    "        [p[0], p[1]],\n",
    "        [p[0] + pattern[0] * np.cos(phi), p[1] + pattern[0] * np.sin(phi)],\n",
    "        [p[0] + pattern[0] * np.cos(phi) - pattern[1] * np.sin(phi),\n",
    "         p[1] + pattern[0] * np.sin(phi) + pattern[1] * np.cos(phi)],\n",
    "        [p[0] - pattern[1] * np.sin(phi), p[1] + pattern[1] * np.cos(phi)]\n",
    "    ])\n",
    "\n",
    "def func(patterns):\n",
    "    s = 0\n",
    "    for i in range(len(patterns)):\n",
    "        for j in range(i + 1, len(patterns)):\n",
    "            s += s_intersection(real_cords(patterns[i]), real_cords(patterns[j]))\n",
    "    slab_poly = geometry.Polygon(slab)\n",
    "    for pat in patterns:\n",
    "        poly = real_cords(pat)\n",
    "        s += poly.area - s_intersection(slab_poly, poly)\n",
    "    return s\n"
   ]
  },
  {
   "cell_type": "code",
   "execution_count": null,
   "id": "fdf32f8d",
   "metadata": {},
   "outputs": [
    {
     "name": "stderr",
     "output_type": "stream",
     "text": [
      "100%|██████████| 1000/1000 [01:02<00:00, 16.12it/s]"
     ]
    },
    {
     "name": "stdout",
     "output_type": "stream",
     "text": [
      "Best solution: ((np.float64(1.4887529129745587), np.float64(0.4993564733336026), np.float64(6.248265129348845)), (np.float64(0.9392668224062819), np.float64(0.5589580755277416), np.float64(6.172046538344712)), (np.float64(1.9827869095475101), np.float64(1.4553365920332633), np.float64(1.4705217395263879)), (np.float64(0.0075814966797819044), np.float64(0.5210551588961914), np.float64(4.68911420856587)), (np.float64(1.004697659303106), np.float64(1.4670187477095997), np.float64(1.5231056183892189)), (np.float64(0.4598997614303795), np.float64(1.5250728273470413), np.float64(3.200196306785171)), (np.float64(1.0022999826013566), np.float64(0.5095914296112275), np.float64(4.683744663905677)), (np.float64(0.5005678479640042), np.float64(0.4968431406038172), np.float64(0.03941892023700605)))\n",
      "Best fitness: 0.10994932846943542\n"
     ]
    },
    {
     "name": "stderr",
     "output_type": "stream",
     "text": [
      "\n"
     ]
    }
   ],
   "source": [
    "\n",
    "def get_neighbors(solution, rnd_coef):\n",
    "    neighbors = []\n",
    "    n = len(solution)\n",
    "    for _ in range(10):\n",
    "        neighbor = list(solution)\n",
    "        idx = random.randint(0, n - 1)\n",
    "        old_coord = neighbor[idx]\n",
    "        new_coord = (\n",
    "            max(min_bound[0], min(old_coord[0] + random.uniform(-rnd_coef[0], rnd_coef[0]), max_bound[0])),\n",
    "            max(min_bound[1], min(old_coord[1] + random.uniform(-rnd_coef[1], rnd_coef[1]), max_bound[1])),\n",
    "            max(min_bound[2], min(old_coord[2] + random.uniform(-rnd_coef[2], rnd_coef[2]), max_bound[2])),\n",
    "        )\n",
    "        neighbor[idx] = new_coord\n",
    "        neighbors.append(tuple(neighbor))\n",
    "    return neighbors\n",
    "\n",
    "def tabu_search(initial_solution, max_iterations, tabu_list_size, rnd_coef):\n",
    "    current_solution = initial_solution\n",
    "    best_solution = initial_solution\n",
    "    tabu_list = []\n",
    "\n",
    "    for _ in tqdm(range(max_iterations)):\n",
    "        neighbors = get_neighbors(current_solution, rnd_coef)\n",
    "        best_neighbor = None\n",
    "        best_neighbor_fitness = float('inf')\n",
    "\n",
    "        for neighbor in neighbors:\n",
    "            if neighbor not in tabu_list:\n",
    "                fitness = func(neighbor)\n",
    "                if fitness < best_neighbor_fitness:\n",
    "                    best_neighbor = neighbor\n",
    "                    best_neighbor_fitness = fitness\n",
    "\n",
    "        if best_neighbor is None:\n",
    "            break\n",
    "\n",
    "        current_solution = best_neighbor\n",
    "        tabu_list.append(best_neighbor)\n",
    "        if len(tabu_list) > tabu_list_size:\n",
    "            tabu_list.pop(0)\n",
    "\n",
    "        if func(current_solution) < func(best_solution):\n",
    "            best_solution = current_solution\n",
    "\n",
    "    return best_solution\n",
    "\n",
    "initial_solution = []\n",
    "for _ in range(n):\n",
    "    initial_solution.append((\n",
    "        random.uniform(min_bound[0], max_bound[0]),\n",
    "        random.uniform(min_bound[1], max_bound[1]),\n",
    "        random.uniform(min_bound[2], max_bound[2])\n",
    "    ))\n",
    "initial_solution = tuple(initial_solution)\n",
    "\n",
    "max_iterations = 1000\n",
    "tabu_list_size = 10\n",
    "best_solution = tabu_search(initial_solution, max_iterations, tabu_list_size, rnd_coef)\n",
    "\n",
    "print(\"Best solution:\", best_solution)\n",
    "print(\"Best fitness:\", func(best_solution))\n"
   ]
  },
  {
   "cell_type": "code",
   "execution_count": null,
   "id": "2b7359d2",
   "metadata": {},
   "outputs": [
    {
     "data": {
      "image/png": "[encoded data removed]",
      "text/plain": [
       "<Figure size 640x480 with 1 Axes>"
      ]
     },
     "metadata": {},
     "output_type": "display_data"
    }
   ],
   "source": [
    "\n",
    "fig, ax = plt.subplots()\n",
    "polygon = patches.Polygon(slab, closed=True, fill=True, edgecolor='blue', facecolor='lightblue', alpha=0.5)\n",
    "ax.add_patch(polygon)\n",
    "\n",
    "for pos in best_solution:\n",
    "    rect = patches.Polygon(real_real_cords(pos), closed=True, fill=True, edgecolor='blue', facecolor='cyan', alpha=0.5)\n",
    "    ax.add_patch(rect)\n",
    "\n",
    "ax.set_xlim(0, 3)\n",
    "ax.set_ylim(0, 3)\n",
    "ax.set_aspect('equal')\n",
    "ax.grid(True)\n",
    "ax.set_axis_off()\n",
    "plt.show()\n"
   ]
  },
  {
   "cell_type": "code",
   "execution_count": null,
   "id": "bcfa5df4",
   "metadata": {},
   "outputs": [
    {
     "name": "stderr",
     "output_type": "stream",
     "text": [
      "100%|██████████| 8/8 [00:00<?, ?it/s]"
     ]
    },
    {
     "name": "stdout",
     "output_type": "stream",
     "text": [
      "Improved solution: ((np.float64(1.4999992405075033), np.float64(0.49991465852573364), np.float64(6.283182409086597)), (np.float64(0.9999998529570182), np.float64(0.5000404157333509), np.float64(6.283184166184227)), (np.float64(1.9999398763359053), np.float64(1.499899874701195), np.float64(1.570632984910735)), (np.float64(0.0), np.float64(0.4999180067986666), np.float64(4.712551531502037)), (np.float64(1.0000067602289746), np.float64(1.5000421852859007), np.float64(1.5708587517121977)), (np.float64(0.4999237059124871), np.float64(1.500002889618469), np.float64(3.141736099389937)), (np.float64(1.0001728634684532), np.float64(0.5001426317651196), np.float64(4.71206586220963)), (np.float64(0.500080008264788), np.float64(0.500002504679731), np.float64(0.00017242728848372276)))\n",
      "Improved fitness: 0.00025288626127045256\n"
     ]
    },
    {
     "name": "stderr",
     "output_type": "stream",
     "text": [
      "\n"
     ]
    }
   ],
   "source": [
    "def objective(x):\n",
    "    patterns = [x[i:i+3] for i in range(0, len(x), 3)]\n",
    "    return func(patterns)\n",
    "\n",
    "x0 = np.array([coord for pattern in best_solution for coord in pattern])\n",
    "\n",
    "bounds = [(min_bound[i % 3], max_bound[i % 3]) for i in range(len(x0))]\n",
    "result = minimize(objective, x0, method='L-BFGS-B', bounds=bounds, options={'maxiter': 100})\n",
    "\n",
    "improved_solution = [tuple(result.x[i:i+3]) for i in range(0, len(result.x), 3)]\n",
    "improved_solution = tuple(improved_solution)\n",
    "\n",
    "print(\"Improved solution:\", improved_solution)\n",
    "print(\"Improved fitness:\", func(improved_solution))\n"
   ]
  },
  {
   "cell_type": "code",
   "execution_count": 12,
   "id": "d507ffc8",
   "metadata": {},
   "outputs": [
    {
     "data": {
      "image/png": "[encoded data removed]",
      "text/plain": [
       "<Figure size 640x480 with 1 Axes>"
      ]
     },
     "metadata": {},
     "output_type": "display_data"
    },
    {
     "name": "stdout",
     "output_type": "stream",
     "text": [
      "Относителоьное улучшение: 0.997699974481056\n"
     ]
    }
   ],
   "source": [
    "\n",
    "# Визуализация улучшенного решения\n",
    "fig, ax = plt.subplots()\n",
    "polygon = patches.Polygon(slab, closed=True, fill=True, edgecolor='blue', facecolor='lightblue', alpha=0.5)\n",
    "ax.add_patch(polygon)\n",
    "\n",
    "for pos in improved_solution:\n",
    "    rect = patches.Polygon(real_real_cords(pos), closed=True, fill=True, edgecolor='blue', facecolor='cyan', alpha=0.5)\n",
    "    ax.add_patch(rect)\n",
    "\n",
    "ax.set_xlim(0, 3)\n",
    "ax.set_ylim(0, 3)\n",
    "ax.set_aspect('equal')\n",
    "ax.grid(True)\n",
    "ax.set_axis_off()\n",
    "plt.show()\n",
    "\n",
    "print(\"Относителоьное улучшение:\", (func(best_solution) - func(improved_solution))/func(best_solution))"
   ]
  }
 ],
 "metadata": {
  "kernelspec": {
   "display_name": "Python 3",
   "language": "python",
   "name": "python3"
  },
  "language_info": {
   "codemirror_mode": {
    "name": "ipython",
    "version": 3
   },
   "file_extension": ".py",
   "mimetype": "text/x-python",
   "name": "python",
   "nbconvert_exporter": "python",
   "pygments_lexer": "ipython3",
   "version": "3.10.0"
  }
 },
 "nbformat": 4,
 "nbformat_minor": 5
}
