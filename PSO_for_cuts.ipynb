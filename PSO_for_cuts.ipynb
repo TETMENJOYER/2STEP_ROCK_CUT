{
 "cells": [
  {
   "cell_type": "code",
   "execution_count": 1,
   "id": "84d8f03c",
   "metadata": {},
   "outputs": [],
   "source": [
    "from tqdm import tqdm\n",
    "import numpy as np\n",
    "import matplotlib.pyplot as plt\n",
    "from matplotlib import patches\n",
    "from shapely import geometry\n"
   ]
  },
  {
   "cell_type": "code",
   "execution_count": 2,
   "id": "149e0c75",
   "metadata": {},
   "outputs": [],
   "source": [
    "\n",
    "n = 8\n",
    "pattern = (0.5, 1)\n",
    "slab = ((0, 0), (0, 2), (2, 2), (2, 0))\n",
    "\n",
    "options = {'c1': 0.5, 'c2': 0.3, 'w': 0.9}\n",
    "dimensions = 3  # x,y,phi\n",
    "\n",
    "min_bound = np.array([0, 0, 0])\n",
    "max_bound = np.array([2, 2, 2 * np.pi])\n",
    "bounds = list(zip(min_bound, max_bound))\n",
    "\n"
   ]
  },
  {
   "cell_type": "code",
   "execution_count": null,
   "id": "a00f65f9",
   "metadata": {},
   "outputs": [
    {
     "data": {
      "text/plain": [
       "False"
      ]
     },
     "execution_count": 3,
     "metadata": {},
     "output_type": "execute_result"
    }
   ],
   "source": [
    "\n",
    "def s_intersection(a, b):\n",
    "    poly1 = geometry.Polygon(a)\n",
    "    poly2 = geometry.Polygon(b)\n",
    "    intersection = poly1.intersection(poly2)\n",
    "    return intersection.area\n",
    "\n",
    "\n",
    "def real_cords(x):\n",
    "    p = x[:2]\n",
    "    phi = x[2]\n",
    "    return geometry.Polygon([\n",
    "        [p[0], p[1]],\n",
    "        [p[0] + pattern[0] * np.cos(phi), p[1] + pattern[0] * np.sin(phi)],\n",
    "        [p[0] + pattern[0] * np.cos(phi) - pattern[1] * np.sin(phi),\n",
    "         p[1] + pattern[0] * np.sin(phi) + pattern[1] * np.cos(phi)],\n",
    "        [p[0] - pattern[1] * np.sin(phi), p[1] + pattern[1] * np.cos(phi)]\n",
    "    ])\n",
    "\n",
    "\n",
    "def real_real_cords(x):\n",
    "    p = x[:2]\n",
    "    phi = x[2]\n",
    "    return [\n",
    "        [p[0], p[1]],\n",
    "        [p[0] + pattern[0] * np.cos(phi), p[1] + pattern[0] * np.sin(phi)],\n",
    "        [p[0] + pattern[0] * np.cos(phi) - pattern[1] * np.sin(phi),\n",
    "         p[1] + pattern[0] * np.sin(phi) + pattern[1] * np.cos(phi)],\n",
    "        [p[0] - pattern[1] * np.sin(phi), p[1] + pattern[1] * np.cos(phi)]\n",
    "    ]\n",
    "\n",
    "\n",
    "def func(all_pattern2):\n",
    "    s = 0\n",
    "    \n",
    "    for i in range(len(all_pattern2)):\n",
    "        for j in range(i + 1, len(all_pattern2)):\n",
    "            s += s_intersection(real_cords(all_pattern2[i]), real_cords(all_pattern2[j]))\n",
    "\n",
    "    for i in all_pattern2:\n",
    "        s += real_cords(i).area - s_intersection(geometry.Polygon(slab), real_cords(i))\n",
    "    return s\n",
    "\n",
    "n==0"
   ]
  },
  {
   "cell_type": "code",
   "execution_count": null,
   "id": "168819d9",
   "metadata": {},
   "outputs": [],
   "source": [
    "n==0\n",
    "class Particle:\n",
    "    def __init__(self, bounds, func, all_pattern2, index):\n",
    "        self.func = func\n",
    "        self.all_pattern2 = all_pattern2 \n",
    "        self.index = index                \n",
    "        self.bounds = bounds\n",
    "\n",
    "        self.position = np.array([np.random.uniform(low, high) for low, high in bounds])\n",
    "        self.velocity = np.zeros_like(self.position)\n",
    "        self.best_position = self.position.copy()\n",
    "        self.best_score = float('inf')\n",
    "\n",
    "    def evaluate(self):\n",
    "        # Обновляем позицию своей фигуры в полном массиве фигур\n",
    "        self.all_pattern2[self.index] = self.position\n",
    "        score = self.func(self.all_pattern2)\n",
    "        if score < self.best_score:\n",
    "            self.best_score = score\n",
    "            self.best_position = self.position.copy()\n",
    "\n",
    "    def update_velocity(self, global_best_position, w=0.7, c1=1.4, c2=1.4):\n",
    "        r1, r2 = np.random.rand(2)\n",
    "        cognitive = c1 * r1 * (self.best_position - self.position)\n",
    "        social = c2 * r2 * (global_best_position - self.position)\n",
    "        self.velocity = w * self.velocity + cognitive + social\n",
    "\n",
    "    def update_position(self):\n",
    "        self.position += self.velocity\n",
    "        for i in range(len(self.bounds)):\n",
    "            low, high = self.bounds[i]\n",
    "            self.position[i] = np.clip(self.position[i], low, high)\n",
    "\n",
    "\n",
    "class PSO:\n",
    "    def __init__(self, func, bounds, n_particles_per_fig=30, max_iter=100, n_figures = 3):\n",
    "        self.func = func\n",
    "        self.bounds = bounds\n",
    "        self.n_particles_per_fig = n_particles_per_fig\n",
    "        self.max_iter = max_iter\n",
    "        self.n_figures = n_figures\n",
    "\n",
    "        self.all_pattern2 = np.array([np.array([np.random.uniform(low, high) for low, high in bounds]) for _ in range(n_figures)])\n",
    "\n",
    "        self.particles = []\n",
    "        for fig_idx in range(n_figures):\n",
    "            for _ in range(n_particles_per_fig):\n",
    "                p = Particle(bounds, func, self.all_pattern2, fig_idx)\n",
    "                self.particles.append(p)\n",
    "\n",
    "        \n",
    "        self.global_best_positions = np.copy(self.all_pattern2)\n",
    "        self.global_best_scores = np.full(n_figures, float('inf'))\n",
    "\n",
    "    def optimize(self):\n",
    "        for iteration in tqdm(range(self.max_iter), desc=\"Оптимизация PSO\"):\n",
    "            for fig_idx in range(self.n_figures):\n",
    "                \n",
    "                fig_particles = [p for p in self.particles if p.index == fig_idx]\n",
    "                \n",
    "                for particle in fig_particles:\n",
    "                    particle.update_velocity(self.global_best_positions[fig_idx])\n",
    "                    particle.update_position()\n",
    "                    particle.evaluate()\n",
    "\n",
    "                \n",
    "                for particle in fig_particles:\n",
    "                    if particle.best_score < self.global_best_scores[fig_idx]:\n",
    "                        self.global_best_scores[fig_idx] = particle.best_score\n",
    "                        self.global_best_positions[fig_idx] = particle.best_position.copy()\n",
    "\n",
    "                \n",
    "                self.all_pattern2[fig_idx] = self.global_best_positions[fig_idx]\n",
    "\n",
    "       \n",
    "        total_best_score = np.sum(self.global_best_scores)\n",
    "        return self.all_pattern2, total_best_score\n",
    "\n"
   ]
  },
  {
   "cell_type": "code",
   "execution_count": 5,
   "id": "aceefc6e",
   "metadata": {},
   "outputs": [
    {
     "name": "stderr",
     "output_type": "stream",
     "text": [
      "Оптимизация PSO: 100%|██████████| 200/200 [00:56<00:00,  3.54it/s]"
     ]
    },
    {
     "name": "stdout",
     "output_type": "stream",
     "text": [
      "Оптимальные позиции: \n",
      "[[0.         0.         0.        ]\n",
      " [2.         2.         3.14159265]\n",
      " [1.5        0.         6.28318531]\n",
      " [1.         1.         0.        ]\n",
      " [1.         1.         1.57079633]\n",
      " [1.         1.5        1.57079633]\n",
      " [0.5        0.5        4.71238898]\n",
      " [1.5        0.5        1.57079633]]\n",
      "Значение функции качества: 1.7563395882076047e-10\n"
     ]
    },
    {
     "name": "stderr",
     "output_type": "stream",
     "text": [
      "\n"
     ]
    },
    {
     "data": {
      "image/png": "[encoded data removed]",
      "text/plain": [
       "<Figure size 640x480 with 1 Axes>"
      ]
     },
     "metadata": {},
     "output_type": "display_data"
    }
   ],
   "source": [
    "\n",
    "# Инициализация PSO\n",
    "pso = PSO(func, bounds, n_particles_per_fig=20, max_iter=200, n_figures=n)\n",
    "best_positions, best_score = pso.optimize()\n",
    "\n",
    "print(f\"Оптимальные позиции: \\n{best_positions}\")\n",
    "print(f\"Значение функции качества: {best_score}\")\n",
    "\n",
    "# Визуализация\n",
    "fig, ax = plt.subplots()\n",
    "\n",
    "polygon = patches.Polygon(slab, closed=True, fill=True, edgecolor='blue', facecolor='lightblue', alpha=0.5)\n",
    "ax.add_patch(polygon)\n",
    "\n",
    "for pos in best_positions:\n",
    "    rect = patches.Polygon(real_real_cords(pos), closed=True, fill=True, edgecolor='blue', facecolor='cyan', alpha=0.5)\n",
    "    ax.add_patch(rect)\n",
    "\n",
    "\n",
    "ax.set_xlim(0, 3)\n",
    "ax.set_ylim(0, 3)\n",
    "ax.set_aspect('equal')\n",
    "ax.grid(True)\n",
    "ax.set_axis_off()\n",
    "\n",
    "plt.show()\n"
   ]
  }
 ],
 "metadata": {
  "kernelspec": {
   "display_name": "Python 3",
   "language": "python",
   "name": "python3"
  },
  "language_info": {
   "codemirror_mode": {
    "name": "ipython",
    "version": 3
   },
   "file_extension": ".py",
   "mimetype": "text/x-python",
   "name": "python",
   "nbconvert_exporter": "python",
   "pygments_lexer": "ipython3",
   "version": "3.12.0"
  }
 },
 "nbformat": 4,
 "nbformat_minor": 5
}
