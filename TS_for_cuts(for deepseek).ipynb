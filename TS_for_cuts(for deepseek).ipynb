{
 "cells": [
  {
   "cell_type": "code",
   "execution_count": 46,
   "id": "1571d56e",
   "metadata": {},
   "outputs": [],
   "source": [
    "import matplotlib.pyplot as plt\n",
    "import numpy as np\n",
    "from matplotlib import patches\n",
    "from shapely import geometry\n",
    "from tqdm import tqdm\n",
    "import random\n",
    "import torch"
   ]
  },
  {
   "cell_type": "code",
   "execution_count": 47,
   "id": "c087c510",
   "metadata": {},
   "outputs": [],
   "source": [
    "n = 8\n",
    "\n",
    "pattern = (0.5, 1)\n",
    "slab = ((0, 0), (0, 2), (2, 2), (2, 0))\n",
    "rnd_coef = [0.1, 0.1, 0.1]\n",
    "min_bound = np.array([0, 0, 0])\n",
    "max_bound = np.array([2, 2, 2 * np.pi])"
   ]
  },
  {
   "cell_type": "code",
   "execution_count": 48,
   "id": "f80f5c09",
   "metadata": {},
   "outputs": [],
   "source": [
    "\n",
    "def real_real_cords(x):\n",
    "    p = x[:2]\n",
    "    phi = x[2]\n",
    "    return [\n",
    "        [p[0], p[1]],\n",
    "        [p[0] + pattern[0] * np.cos(phi), p[1] + pattern[0] * np.sin(phi)],\n",
    "        [p[0] + pattern[0] * np.cos(phi) - pattern[1] * np.sin(phi),\n",
    "         p[1] + pattern[0] * np.sin(phi) + pattern[1] * np.cos(phi)],\n",
    "        [p[0] - pattern[1] * np.sin(phi), p[1] + pattern[1] * np.cos(phi)]\n",
    "    ]\n",
    "\n"
   ]
  },
  {
   "cell_type": "code",
   "execution_count": 53,
   "id": "eb44acaf",
   "metadata": {},
   "outputs": [],
   "source": [
    "def torch_func(patterns_tensor):\n",
    "    # patterns_tensor: [n, 3] где каждая строка это (x, y, phi)\n",
    "    n = patterns_tensor.shape[0]\n",
    "    total_loss = torch.tensor(0.0)\n",
    "    \n",
    "    # Вычисляем пересечения между всеми парами паттернов\n",
    "    for i in range(n):\n",
    "        poly1 = real_cords_torch(patterns_tensor[i])\n",
    "        for j in range(i + 1, n):\n",
    "            poly2 = real_cords_torch(patterns_tensor[j])\n",
    "            intersection = s_intersection_torch(poly1, poly2)\n",
    "            total_loss += intersection\n",
    "    \n",
    "    # Вычисляем пересечения с плитой\n",
    "    slab_poly = geometry.Polygon(slab)\n",
    "    for i in range(n):\n",
    "        poly = real_cords_torch(patterns_tensor[i])\n",
    "        poly_area = poly.area\n",
    "        slab_intersection = s_intersection_torch(slab_poly, poly)\n",
    "        total_loss += poly_area - slab_intersection\n",
    "    \n",
    "    return total_loss\n",
    "\n",
    "def real_cords_torch(x_tensor):\n",
    "    # x_tensor: [3] где (x, y, phi)\n",
    "    x, y, phi = x_tensor[0], x_tensor[1], x_tensor[2]\n",
    "    \n",
    "    # Создаем полигон через shapely (это будет медленно, лучше найти чисто PyTorch решение)\n",
    "    poly = geometry.Polygon([\n",
    "        [x.item(), y.item()],\n",
    "        [x.item() + pattern[0] * torch.cos(phi).item(), y.item() + pattern[0] * torch.sin(phi).item()],\n",
    "        [x.item() + pattern[0] * torch.cos(phi).item() - pattern[1] * torch.sin(phi).item(),\n",
    "         y.item() + pattern[0] * torch.sin(phi).item() + pattern[1] * torch.cos(phi).item()],\n",
    "        [x.item() - pattern[1] * torch.sin(phi).item(), y.item() + pattern[1] * torch.cos(phi).item()]\n",
    "    ])\n",
    "    return poly\n",
    "\n",
    "def s_intersection_torch(poly1, poly2):\n",
    "    # Для совместимости с shapely\n",
    "    intersection = poly1.intersection(poly2)\n",
    "    return torch.tensor(intersection.area)"
   ]
  },
  {
   "cell_type": "code",
   "execution_count": null,
   "id": "1ab1c1ef",
   "metadata": {},
   "outputs": [],
   "source": [
    "\n",
    "\n",
    "def s_intersection(a, b):\n",
    "    poly1 = geometry.Polygon(a)\n",
    "    poly2 = geometry.Polygon(b)\n",
    "    intersection = poly1.intersection(poly2)\n",
    "    return intersection.area\n",
    "\n",
    "def real_cords(x):\n",
    "    p = x[:2]\n",
    "    phi = x[2]\n",
    "    return geometry.Polygon([\n",
    "        [p[0], p[1]],\n",
    "        [p[0] + pattern[0] * np.cos(phi), p[1] + pattern[0] * np.sin(phi)],\n",
    "        [p[0] + pattern[0] * np.cos(phi) - pattern[1] * np.sin(phi),\n",
    "         p[1] + pattern[0] * np.sin(phi) + pattern[1] * np.cos(phi)],\n",
    "        [p[0] - pattern[1] * np.sin(phi), p[1] + pattern[1] * np.cos(phi)]\n",
    "    ])\n",
    "\n",
    "\n",
    "def func(patterns):\n",
    "    s = 0\n",
    "    for i in range(len(patterns)):\n",
    "        for j in range(i + 1, len(patterns)):\n",
    "            s += s_intersection(real_cords(patterns[i]), real_cords(patterns[j]))\n",
    "    slab_poly = geometry.Polygon(slab)\n",
    "    for pat in patterns:\n",
    "        poly = real_cords(pat)\n",
    "        s += poly.area - s_intersection(slab_poly, poly)\n",
    "    return s\n"
   ]
  },
  {
   "cell_type": "code",
   "execution_count": 50,
   "id": "4bc0536a",
   "metadata": {},
   "outputs": [
    {
     "name": "stderr",
     "output_type": "stream",
     "text": [
      "  0%|          | 0/1000 [00:00<?, ?it/s]"
     ]
    },
    {
     "name": "stderr",
     "output_type": "stream",
     "text": [
      "100%|██████████| 1000/1000 [01:12<00:00, 13.70it/s]"
     ]
    },
    {
     "name": "stdout",
     "output_type": "stream",
     "text": [
      "Best solution: ((np.float64(1.010187645498991), np.float64(0.5117946745814629), np.float64(4.677856939244279)), (np.float64(1.4909411190003405), np.float64(1.0376421743622852), np.float64(6.283185307179586)), (np.float64(1.000151559814513), np.float64(0.4976912938858833), np.float64(1.5364858712586729)), (np.float64(0.9677677484529523), np.float64(0.9256310430431217), np.float64(1.4723080414987502)), (np.float64(0.9602929817016522), np.float64(1.4226340027313424), np.float64(1.4713947630199082)), (np.float64(0.9844436816522485), np.float64(1.0357857113879394), np.float64(6.271210263677832)), (np.float64(2.0), np.float64(0.5209239313713044), np.float64(1.5799572309869951)), (np.float64(0.9902301679320182), np.int64(0), np.float64(1.546437226429643)))\n",
      "Best fitness: 0.11654286122126263\n"
     ]
    },
    {
     "name": "stderr",
     "output_type": "stream",
     "text": [
      "\n"
     ]
    }
   ],
   "source": [
    "\n",
    "def get_neighbors(solution):\n",
    "    neighbors = []\n",
    "    n = len(solution)\n",
    "    for _ in range(10):  # 10 соседей каждый раз\n",
    "        neighbor = list(solution)\n",
    "        # случайно выбираем индекс для мутации\n",
    "        idx = random.randint(0, n - 1)\n",
    "        old_coord = neighbor[idx]\n",
    "        # новый набор координат с небольшим случайным смещением\n",
    "        new_coord = (\n",
    "            max(min_bound[0], min(old_coord[0] + random.uniform(-rnd_coef[0], rnd_coef[0]), max_bound[0])),\n",
    "            max(min_bound[1], min(old_coord[1] + random.uniform(-rnd_coef[1], rnd_coef[1]), max_bound[1])),\n",
    "            max(min_bound[2], min(old_coord[2] + random.uniform(-rnd_coef[2], rnd_coef[2]), max_bound[2])),\n",
    "        )\n",
    "        neighbor[idx] = new_coord\n",
    "        neighbors.append(tuple(neighbor))\n",
    "    return neighbors\n",
    "\n",
    "def tabu_search(initial_solution, max_iterations, tabu_list_size):\n",
    "    current_solution = initial_solution\n",
    "    best_solution = initial_solution\n",
    "    tabu_list = []\n",
    "\n",
    "    for _ in tqdm(range(max_iterations)):\n",
    "        neighbors = get_neighbors(current_solution)\n",
    "        best_neighbor = None\n",
    "        best_neighbor_fitness = float('inf')\n",
    "\n",
    "        for neighbor in neighbors:\n",
    "            if neighbor not in tabu_list:\n",
    "                fitness = func(neighbor)\n",
    "                if fitness < best_neighbor_fitness:\n",
    "                    best_neighbor = neighbor\n",
    "                    best_neighbor_fitness = fitness\n",
    "\n",
    "        if best_neighbor is None:\n",
    "            break\n",
    "\n",
    "        current_solution = best_neighbor\n",
    "        tabu_list.append(best_neighbor)\n",
    "        if len(tabu_list) > tabu_list_size:\n",
    "            tabu_list.pop(0)\n",
    "\n",
    "        if func(current_solution) < func(best_solution):\n",
    "            best_solution = current_solution\n",
    "\n",
    "    return best_solution\n",
    "\n",
    "# Инициализация: n наборов координат\n",
    "n = 8\n",
    "initial_solution = []\n",
    "for _ in range(n):\n",
    "    initial_solution.append((\n",
    "        random.uniform(min_bound[0], max_bound[0]),\n",
    "        random.uniform(min_bound[1], max_bound[1]),\n",
    "        random.uniform(min_bound[2], max_bound[2])\n",
    "    ))\n",
    "initial_solution = tuple(initial_solution)  # чтоб была хешируемой для табу-листа\n",
    "\n",
    "max_iterations = 1000\n",
    "tabu_list_size = 10  \n",
    "\n",
    "best_solution = tabu_search(initial_solution, max_iterations, tabu_list_size)\n",
    "\n",
    "print(\"Best solution:\", best_solution)\n",
    "print(\"Best fitness:\", func(best_solution))\n"
   ]
  },
  {
   "cell_type": "code",
   "execution_count": 51,
   "id": "a323f232",
   "metadata": {},
   "outputs": [
    {
     "data": {
      "image/png": "[encoded data removed]",
      "text/plain": [
       "<Figure size 640x480 with 1 Axes>"
      ]
     },
     "metadata": {},
     "output_type": "display_data"
    }
   ],
   "source": [
    "fig, ax = plt.subplots()\n",
    "\n",
    "polygon = patches.Polygon(slab, closed=True, fill=True, edgecolor='blue', facecolor='lightblue', alpha=0.5)\n",
    "ax.add_patch(polygon)\n",
    "\n",
    "for pos in best_solution:\n",
    "    rect = patches.Polygon(real_real_cords(pos), closed=True, fill=True, edgecolor='blue', facecolor='cyan', alpha=0.5)\n",
    "    ax.add_patch(rect)\n",
    "\n",
    "\n",
    "ax.set_xlim(0, 3)\n",
    "ax.set_ylim(0, 3)\n",
    "ax.set_aspect('equal')\n",
    "ax.grid(True)\n",
    "ax.set_axis_off()\n",
    "\n",
    "plt.show()"
   ]
  },
  {
   "cell_type": "code",
   "execution_count": 54,
   "id": "a8760d93",
   "metadata": {},
   "outputs": [
    {
     "name": "stderr",
     "output_type": "stream",
     "text": [
      "  0%|          | 0/1000 [00:00<?, ?it/s]\n"
     ]
    },
    {
     "ename": "RuntimeError",
     "evalue": "element 0 of tensors does not require grad and does not have a grad_fn",
     "output_type": "error",
     "traceback": [
      "\u001b[1;31m---------------------------------------------------------------------------\u001b[0m",
      "\u001b[1;31mRuntimeError\u001b[0m                              Traceback (most recent call last)",
      "Cell \u001b[1;32mIn[54], line 41\u001b[0m\n\u001b[0;32m     33\u001b[0m     \u001b[38;5;28;01mreturn\u001b[39;00m \u001b[38;5;28mtuple\u001b[39m(patterns)\n\u001b[0;32m     39\u001b[0m best_solution_after_ts \u001b[38;5;241m=\u001b[39m best_solution  \n\u001b[1;32m---> 41\u001b[0m improved_solution \u001b[38;5;241m=\u001b[39m \u001b[43mgradient_descent\u001b[49m\u001b[43m(\u001b[49m\u001b[43mtorch_func\u001b[49m\u001b[43m,\u001b[49m\u001b[43m \u001b[49m\u001b[43mbest_solution_after_ts\u001b[49m\u001b[43m,\u001b[49m\u001b[43m \u001b[49m\u001b[43mlr\u001b[49m\u001b[38;5;241;43m=\u001b[39;49m\u001b[38;5;241;43m0.01\u001b[39;49m\u001b[43m,\u001b[49m\u001b[43m \u001b[49m\u001b[43mmax_iters\u001b[49m\u001b[38;5;241;43m=\u001b[39;49m\u001b[38;5;241;43m1000\u001b[39;49m\u001b[43m)\u001b[49m\n\u001b[0;32m     43\u001b[0m \u001b[38;5;28mprint\u001b[39m(\u001b[38;5;124m\"\u001b[39m\u001b[38;5;124mImproved solution:\u001b[39m\u001b[38;5;124m\"\u001b[39m, improved_solution)\n\u001b[0;32m     44\u001b[0m \u001b[38;5;28mprint\u001b[39m(\u001b[38;5;124m\"\u001b[39m\u001b[38;5;124mImproved fitness:\u001b[39m\u001b[38;5;124m\"\u001b[39m, func(improved_solution))\n",
      "Cell \u001b[1;32mIn[54], line 20\u001b[0m, in \u001b[0;36mgradient_descent\u001b[1;34m(func, initial_patterns, lr, max_iters)\u001b[0m\n\u001b[0;32m     18\u001b[0m patterns_tensor \u001b[38;5;241m=\u001b[39m torch\u001b[38;5;241m.\u001b[39mtensor(patterns, requires_grad\u001b[38;5;241m=\u001b[39m\u001b[38;5;28;01mTrue\u001b[39;00m)\n\u001b[0;32m     19\u001b[0m loss \u001b[38;5;241m=\u001b[39m func(patterns_tensor)\n\u001b[1;32m---> 20\u001b[0m \u001b[43mloss\u001b[49m\u001b[38;5;241;43m.\u001b[39;49m\u001b[43mbackward\u001b[49m\u001b[43m(\u001b[49m\u001b[43m)\u001b[49m\n\u001b[0;32m     22\u001b[0m gradients \u001b[38;5;241m=\u001b[39m patterns_tensor\u001b[38;5;241m.\u001b[39mgrad\u001b[38;5;241m.\u001b[39mdetach()\u001b[38;5;241m.\u001b[39mnumpy()\n\u001b[0;32m     24\u001b[0m new_patterns \u001b[38;5;241m=\u001b[39m []\n",
      "File \u001b[1;32mc:\\Users\\user-pc\\AppData\\Local\\Programs\\Python\\Python310\\lib\\site-packages\\torch\\_tensor.py:647\u001b[0m, in \u001b[0;36mTensor.backward\u001b[1;34m(self, gradient, retain_graph, create_graph, inputs)\u001b[0m\n\u001b[0;32m    637\u001b[0m \u001b[38;5;28;01mif\u001b[39;00m has_torch_function_unary(\u001b[38;5;28mself\u001b[39m):\n\u001b[0;32m    638\u001b[0m     \u001b[38;5;28;01mreturn\u001b[39;00m handle_torch_function(\n\u001b[0;32m    639\u001b[0m         Tensor\u001b[38;5;241m.\u001b[39mbackward,\n\u001b[0;32m    640\u001b[0m         (\u001b[38;5;28mself\u001b[39m,),\n\u001b[1;32m   (...)\u001b[0m\n\u001b[0;32m    645\u001b[0m         inputs\u001b[38;5;241m=\u001b[39minputs,\n\u001b[0;32m    646\u001b[0m     )\n\u001b[1;32m--> 647\u001b[0m \u001b[43mtorch\u001b[49m\u001b[38;5;241;43m.\u001b[39;49m\u001b[43mautograd\u001b[49m\u001b[38;5;241;43m.\u001b[39;49m\u001b[43mbackward\u001b[49m\u001b[43m(\u001b[49m\n\u001b[0;32m    648\u001b[0m \u001b[43m    \u001b[49m\u001b[38;5;28;43mself\u001b[39;49m\u001b[43m,\u001b[49m\u001b[43m \u001b[49m\u001b[43mgradient\u001b[49m\u001b[43m,\u001b[49m\u001b[43m \u001b[49m\u001b[43mretain_graph\u001b[49m\u001b[43m,\u001b[49m\u001b[43m \u001b[49m\u001b[43mcreate_graph\u001b[49m\u001b[43m,\u001b[49m\u001b[43m \u001b[49m\u001b[43minputs\u001b[49m\u001b[38;5;241;43m=\u001b[39;49m\u001b[43minputs\u001b[49m\n\u001b[0;32m    649\u001b[0m \u001b[43m\u001b[49m\u001b[43m)\u001b[49m\n",
      "File \u001b[1;32mc:\\Users\\user-pc\\AppData\\Local\\Programs\\Python\\Python310\\lib\\site-packages\\torch\\autograd\\__init__.py:354\u001b[0m, in \u001b[0;36mbackward\u001b[1;34m(tensors, grad_tensors, retain_graph, create_graph, grad_variables, inputs)\u001b[0m\n\u001b[0;32m    349\u001b[0m     retain_graph \u001b[38;5;241m=\u001b[39m create_graph\n\u001b[0;32m    351\u001b[0m \u001b[38;5;66;03m# The reason we repeat the same comment below is that\u001b[39;00m\n\u001b[0;32m    352\u001b[0m \u001b[38;5;66;03m# some Python versions print out the first line of a multi-line function\u001b[39;00m\n\u001b[0;32m    353\u001b[0m \u001b[38;5;66;03m# calls in the traceback and some print out the last line\u001b[39;00m\n\u001b[1;32m--> 354\u001b[0m \u001b[43m_engine_run_backward\u001b[49m\u001b[43m(\u001b[49m\n\u001b[0;32m    355\u001b[0m \u001b[43m    \u001b[49m\u001b[43mtensors\u001b[49m\u001b[43m,\u001b[49m\n\u001b[0;32m    356\u001b[0m \u001b[43m    \u001b[49m\u001b[43mgrad_tensors_\u001b[49m\u001b[43m,\u001b[49m\n\u001b[0;32m    357\u001b[0m \u001b[43m    \u001b[49m\u001b[43mretain_graph\u001b[49m\u001b[43m,\u001b[49m\n\u001b[0;32m    358\u001b[0m \u001b[43m    \u001b[49m\u001b[43mcreate_graph\u001b[49m\u001b[43m,\u001b[49m\n\u001b[0;32m    359\u001b[0m \u001b[43m    \u001b[49m\u001b[43minputs_tuple\u001b[49m\u001b[43m,\u001b[49m\n\u001b[0;32m    360\u001b[0m \u001b[43m    \u001b[49m\u001b[43mallow_unreachable\u001b[49m\u001b[38;5;241;43m=\u001b[39;49m\u001b[38;5;28;43;01mTrue\u001b[39;49;00m\u001b[43m,\u001b[49m\n\u001b[0;32m    361\u001b[0m \u001b[43m    \u001b[49m\u001b[43maccumulate_grad\u001b[49m\u001b[38;5;241;43m=\u001b[39;49m\u001b[38;5;28;43;01mTrue\u001b[39;49;00m\u001b[43m,\u001b[49m\n\u001b[0;32m    362\u001b[0m \u001b[43m\u001b[49m\u001b[43m)\u001b[49m\n",
      "File \u001b[1;32mc:\\Users\\user-pc\\AppData\\Local\\Programs\\Python\\Python310\\lib\\site-packages\\torch\\autograd\\graph.py:829\u001b[0m, in \u001b[0;36m_engine_run_backward\u001b[1;34m(t_outputs, *args, **kwargs)\u001b[0m\n\u001b[0;32m    827\u001b[0m     unregister_hooks \u001b[38;5;241m=\u001b[39m _register_logging_hooks_on_whole_graph(t_outputs)\n\u001b[0;32m    828\u001b[0m \u001b[38;5;28;01mtry\u001b[39;00m:\n\u001b[1;32m--> 829\u001b[0m     \u001b[38;5;28;01mreturn\u001b[39;00m Variable\u001b[38;5;241m.\u001b[39m_execution_engine\u001b[38;5;241m.\u001b[39mrun_backward(  \u001b[38;5;66;03m# Calls into the C++ engine to run the backward pass\u001b[39;00m\n\u001b[0;32m    830\u001b[0m         t_outputs, \u001b[38;5;241m*\u001b[39margs, \u001b[38;5;241m*\u001b[39m\u001b[38;5;241m*\u001b[39mkwargs\n\u001b[0;32m    831\u001b[0m     )  \u001b[38;5;66;03m# Calls into the C++ engine to run the backward pass\u001b[39;00m\n\u001b[0;32m    832\u001b[0m \u001b[38;5;28;01mfinally\u001b[39;00m:\n\u001b[0;32m    833\u001b[0m     \u001b[38;5;28;01mif\u001b[39;00m attach_logging_hooks:\n",
      "\u001b[1;31mRuntimeError\u001b[0m: element 0 of tensors does not require grad and does not have a grad_fn"
     ]
    }
   ],
   "source": [
    "\n",
    "\n",
    "def grad(best_solution):\n",
    "    x = best_solution.detach().numpy()\n",
    "    \n",
    "    xt = torch.tensor(x, requires_grad=True)\n",
    "    optimizer = torch.optim.Adam([xt], lr=0.001)\n",
    "    for i in range(100):\n",
    "        optimizer.zero_grad()\n",
    "        f = torch_func(xt)\n",
    "        f.backward()\n",
    "        optimizer.step()\n",
    "    return xt\n",
    "\n",
    "\n",
    "def gradient_descent(func, initial_patterns, lr=0.01, max_iters=300):\n",
    "    patterns = list(initial_patterns)\n",
    "\n",
    "    for _ in tqdm(range(max_iters)):\n",
    "        patterns_tensor = torch.tensor(patterns, requires_grad=True)\n",
    "        loss = func(patterns_tensor)\n",
    "        loss.backward()\n",
    "        \n",
    "        gradients = patterns_tensor.grad.detach().numpy()\n",
    "        \n",
    "        new_patterns = []\n",
    "        for (x, y, phi), (gx, gy, gphi) in zip(patterns, gradients):\n",
    "            new_x = np.clip(x - learning_rate * gx, min_bound[0], max_bound[0])\n",
    "            new_y = np.clip(y - learning_rate * gy, min_bound[1], max_bound[1])\n",
    "            new_phi = np.clip(phi - learning_rate * gphi, min_bound[2], max_bound[2])\n",
    "            new_patterns.append((new_x, new_y, new_phi))\n",
    "\n",
    "        patterns = new_patterns\n",
    "\n",
    "    return tuple(patterns)\n",
    "\n",
    "\n",
    "\n",
    "\n",
    "\n",
    "best_solution_after_ts = best_solution  \n",
    "\n",
    "improved_solution = gradient_descent(torch_func, best_solution_after_ts, lr=0.01, max_iters=1000)\n",
    "\n",
    "print(\"Improved solution:\", improved_solution)\n",
    "print(\"Improved fitness:\", func(improved_solution))\n"
   ]
  },
  {
   "cell_type": "code",
   "execution_count": null,
   "id": "6e1d86bc",
   "metadata": {},
   "outputs": [
    {
     "data": {
      "image/png": "[encoded data removed]",
      "text/plain": [
       "<Figure size 640x480 with 1 Axes>"
      ]
     },
     "metadata": {},
     "output_type": "display_data"
    },
    {
     "name": "stdout",
     "output_type": "stream",
     "text": [
      "Улучшение -0.4590706678505428\n"
     ]
    }
   ],
   "source": [
    "# Визуализация\n",
    "fig, ax = plt.subplots()\n",
    "\n",
    "polygon = patches.Polygon(slab, closed=True, fill=True, edgecolor='blue', facecolor='lightblue', alpha=0.5)\n",
    "ax.add_patch(polygon)\n",
    "\n",
    "for pos in improved_solution:\n",
    "    rect = patches.Polygon(real_real_cords(pos), closed=True, fill=True, edgecolor='blue', facecolor='cyan', alpha=0.5)\n",
    "    ax.add_patch(rect)\n",
    "\n",
    "\n",
    "ax.set_xlim(0, 3)\n",
    "ax.set_ylim(0, 3)\n",
    "ax.set_aspect('equal')\n",
    "ax.grid(True)\n",
    "ax.set_axis_off()\n",
    "\n",
    "plt.show()\n",
    "print (\"Улучшение\", func(best_solution)-func(improved_solution))\n"
   ]
  }
 ],
 "metadata": {
  "kernelspec": {
   "display_name": "Python 3",
   "language": "python",
   "name": "python3"
  },
  "language_info": {
   "codemirror_mode": {
    "name": "ipython",
    "version": 3
   },
   "file_extension": ".py",
   "mimetype": "text/x-python",
   "name": "python",
   "nbconvert_exporter": "python",
   "pygments_lexer": "ipython3",
   "version": "3.10.0"
  }
 },
 "nbformat": 4,
 "nbformat_minor": 5
}
